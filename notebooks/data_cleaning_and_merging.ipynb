{
 "cells": [
  {
   "cell_type": "code",
   "execution_count": 1,
   "id": "fa27f9c6",
   "metadata": {},
   "outputs": [],
   "source": [
    "import pandas as pd\n",
    "import numpy as np"
   ]
  },
  {
   "cell_type": "code",
   "execution_count": null,
   "id": "c3f75e5e",
   "metadata": {},
   "outputs": [],
   "source": [
    "# 1.Main Crop Production Dataset\n",
    "df_crop = pd.read_csv(\"../data/raw_data/crop-wise-area-production-yield.csv\")"
   ]
  },
  {
   "cell_type": "code",
   "execution_count": 5,
   "id": "52974011",
   "metadata": {},
   "outputs": [
    {
     "data": {
      "text/html": [
       "<div>\n",
       "<style scoped>\n",
       "    .dataframe tbody tr th:only-of-type {\n",
       "        vertical-align: middle;\n",
       "    }\n",
       "\n",
       "    .dataframe tbody tr th {\n",
       "        vertical-align: top;\n",
       "    }\n",
       "\n",
       "    .dataframe thead th {\n",
       "        text-align: right;\n",
       "    }\n",
       "</style>\n",
       "<table border=\"1\" class=\"dataframe\">\n",
       "  <thead>\n",
       "    <tr style=\"text-align: right;\">\n",
       "      <th></th>\n",
       "      <th>id</th>\n",
       "      <th>year</th>\n",
       "      <th>state_name</th>\n",
       "      <th>state_code</th>\n",
       "      <th>district_name</th>\n",
       "      <th>district_code</th>\n",
       "      <th>season</th>\n",
       "      <th>crop_code</th>\n",
       "      <th>crop_name</th>\n",
       "      <th>crop_type</th>\n",
       "      <th>area</th>\n",
       "      <th>area_unit</th>\n",
       "      <th>production</th>\n",
       "      <th>production_unit</th>\n",
       "      <th>yield</th>\n",
       "      <th>yield_unit</th>\n",
       "    </tr>\n",
       "  </thead>\n",
       "  <tbody>\n",
       "    <tr>\n",
       "      <th>0</th>\n",
       "      <td>0</td>\n",
       "      <td>1998-99</td>\n",
       "      <td>Telangana</td>\n",
       "      <td>28</td>\n",
       "      <td>Adilabad</td>\n",
       "      <td>501</td>\n",
       "      <td>Kharif</td>\n",
       "      <td>202</td>\n",
       "      <td>Arhar/Tur</td>\n",
       "      <td>Pulses</td>\n",
       "      <td>35900.0</td>\n",
       "      <td>Hectare</td>\n",
       "      <td>12700.0</td>\n",
       "      <td>Tonnes</td>\n",
       "      <td>0.35</td>\n",
       "      <td>Tonnes/Hectare</td>\n",
       "    </tr>\n",
       "    <tr>\n",
       "      <th>1</th>\n",
       "      <td>1</td>\n",
       "      <td>1998-99</td>\n",
       "      <td>Telangana</td>\n",
       "      <td>28</td>\n",
       "      <td>Adilabad</td>\n",
       "      <td>501</td>\n",
       "      <td>Rabi</td>\n",
       "      <td>202</td>\n",
       "      <td>Arhar/Tur</td>\n",
       "      <td>Pulses</td>\n",
       "      <td>100.0</td>\n",
       "      <td>Hectare</td>\n",
       "      <td>100.0</td>\n",
       "      <td>Tonnes</td>\n",
       "      <td>1.00</td>\n",
       "      <td>Tonnes/Hectare</td>\n",
       "    </tr>\n",
       "    <tr>\n",
       "      <th>2</th>\n",
       "      <td>2</td>\n",
       "      <td>1998-99</td>\n",
       "      <td>Andhra Pradesh</td>\n",
       "      <td>28</td>\n",
       "      <td>Anantapur</td>\n",
       "      <td>502</td>\n",
       "      <td>Kharif</td>\n",
       "      <td>202</td>\n",
       "      <td>Arhar/Tur</td>\n",
       "      <td>Pulses</td>\n",
       "      <td>27400.0</td>\n",
       "      <td>Hectare</td>\n",
       "      <td>9100.0</td>\n",
       "      <td>Tonnes</td>\n",
       "      <td>0.33</td>\n",
       "      <td>Tonnes/Hectare</td>\n",
       "    </tr>\n",
       "    <tr>\n",
       "      <th>3</th>\n",
       "      <td>3</td>\n",
       "      <td>1998-99</td>\n",
       "      <td>Andhra Pradesh</td>\n",
       "      <td>28</td>\n",
       "      <td>Chittoor</td>\n",
       "      <td>503</td>\n",
       "      <td>Kharif</td>\n",
       "      <td>202</td>\n",
       "      <td>Arhar/Tur</td>\n",
       "      <td>Pulses</td>\n",
       "      <td>6100.0</td>\n",
       "      <td>Hectare</td>\n",
       "      <td>1000.0</td>\n",
       "      <td>Tonnes</td>\n",
       "      <td>0.16</td>\n",
       "      <td>Tonnes/Hectare</td>\n",
       "    </tr>\n",
       "    <tr>\n",
       "      <th>4</th>\n",
       "      <td>4</td>\n",
       "      <td>1998-99</td>\n",
       "      <td>Andhra Pradesh</td>\n",
       "      <td>28</td>\n",
       "      <td>East Godavari</td>\n",
       "      <td>505</td>\n",
       "      <td>Kharif</td>\n",
       "      <td>202</td>\n",
       "      <td>Arhar/Tur</td>\n",
       "      <td>Pulses</td>\n",
       "      <td>2100.0</td>\n",
       "      <td>Hectare</td>\n",
       "      <td>300.0</td>\n",
       "      <td>Tonnes</td>\n",
       "      <td>0.14</td>\n",
       "      <td>Tonnes/Hectare</td>\n",
       "    </tr>\n",
       "  </tbody>\n",
       "</table>\n",
       "</div>"
      ],
      "text/plain": [
       "   id      year      state_name  state_code  district_name  district_code  \\\n",
       "0   0   1998-99       Telangana          28       Adilabad            501   \n",
       "1   1   1998-99       Telangana          28       Adilabad            501   \n",
       "2   2   1998-99  Andhra Pradesh          28      Anantapur            502   \n",
       "3   3   1998-99  Andhra Pradesh          28       Chittoor            503   \n",
       "4   4   1998-99  Andhra Pradesh          28  East Godavari            505   \n",
       "\n",
       "        season  crop_code  crop_name crop_type     area area_unit  production  \\\n",
       "0  Kharif             202  Arhar/Tur    Pulses  35900.0   Hectare     12700.0   \n",
       "1  Rabi               202  Arhar/Tur    Pulses    100.0   Hectare       100.0   \n",
       "2  Kharif             202  Arhar/Tur    Pulses  27400.0   Hectare      9100.0   \n",
       "3  Kharif             202  Arhar/Tur    Pulses   6100.0   Hectare      1000.0   \n",
       "4  Kharif             202  Arhar/Tur    Pulses   2100.0   Hectare       300.0   \n",
       "\n",
       "  production_unit  yield      yield_unit  \n",
       "0          Tonnes   0.35  Tonnes/Hectare  \n",
       "1          Tonnes   1.00  Tonnes/Hectare  \n",
       "2          Tonnes   0.33  Tonnes/Hectare  \n",
       "3          Tonnes   0.16  Tonnes/Hectare  \n",
       "4          Tonnes   0.14  Tonnes/Hectare  "
      ]
     },
     "execution_count": 5,
     "metadata": {},
     "output_type": "execute_result"
    }
   ],
   "source": [
    "df_crop.head()"
   ]
  },
  {
   "cell_type": "code",
   "execution_count": null,
   "id": "2fa8e572",
   "metadata": {},
   "outputs": [
    {
     "data": {
      "text/plain": [
       "id                 0\n",
       "year               0\n",
       "state_name         0\n",
       "state_code         0\n",
       "district_name      0\n",
       "district_code      0\n",
       "season             0\n",
       "crop_code          0\n",
       "crop_name          0\n",
       "crop_type          0\n",
       "area               0\n",
       "area_unit          0\n",
       "production         0\n",
       "production_unit    0\n",
       "yield              0\n",
       "yield_unit         0\n",
       "dtype: int64"
      ]
     },
     "execution_count": 6,
     "metadata": {},
     "output_type": "execute_result"
    }
   ],
   "source": [
    "# --- I'll check for missing values ---\n",
    "df_crop.isnull().sum()"
   ]
  },
  {
   "cell_type": "code",
   "execution_count": null,
   "id": "d7c87582",
   "metadata": {},
   "outputs": [],
   "source": [
    "# 2. Agronomic Dataset (Rainfall, Fertilizer, Pesticide)\n",
    "df_agronomic = pd.read_csv(\"../data/raw_data/crop_yield.csv\")"
   ]
  },
  {
   "cell_type": "code",
   "execution_count": 20,
   "id": "905fe295",
   "metadata": {},
   "outputs": [
    {
     "data": {
      "text/html": [
       "<div>\n",
       "<style scoped>\n",
       "    .dataframe tbody tr th:only-of-type {\n",
       "        vertical-align: middle;\n",
       "    }\n",
       "\n",
       "    .dataframe tbody tr th {\n",
       "        vertical-align: top;\n",
       "    }\n",
       "\n",
       "    .dataframe thead th {\n",
       "        text-align: right;\n",
       "    }\n",
       "</style>\n",
       "<table border=\"1\" class=\"dataframe\">\n",
       "  <thead>\n",
       "    <tr style=\"text-align: right;\">\n",
       "      <th></th>\n",
       "      <th>Crop</th>\n",
       "      <th>Crop_Year</th>\n",
       "      <th>Season</th>\n",
       "      <th>State</th>\n",
       "      <th>Area</th>\n",
       "      <th>Production</th>\n",
       "      <th>Annual_Rainfall</th>\n",
       "      <th>Fertilizer</th>\n",
       "      <th>Pesticide</th>\n",
       "      <th>Yield</th>\n",
       "    </tr>\n",
       "  </thead>\n",
       "  <tbody>\n",
       "    <tr>\n",
       "      <th>0</th>\n",
       "      <td>Arecanut</td>\n",
       "      <td>1997</td>\n",
       "      <td>Whole Year</td>\n",
       "      <td>Assam</td>\n",
       "      <td>73814.0</td>\n",
       "      <td>56708</td>\n",
       "      <td>2051.4</td>\n",
       "      <td>7024878.38</td>\n",
       "      <td>22882.34</td>\n",
       "      <td>0.796087</td>\n",
       "    </tr>\n",
       "    <tr>\n",
       "      <th>1</th>\n",
       "      <td>Arhar/Tur</td>\n",
       "      <td>1997</td>\n",
       "      <td>Kharif</td>\n",
       "      <td>Assam</td>\n",
       "      <td>6637.0</td>\n",
       "      <td>4685</td>\n",
       "      <td>2051.4</td>\n",
       "      <td>631643.29</td>\n",
       "      <td>2057.47</td>\n",
       "      <td>0.710435</td>\n",
       "    </tr>\n",
       "    <tr>\n",
       "      <th>2</th>\n",
       "      <td>Castor seed</td>\n",
       "      <td>1997</td>\n",
       "      <td>Kharif</td>\n",
       "      <td>Assam</td>\n",
       "      <td>796.0</td>\n",
       "      <td>22</td>\n",
       "      <td>2051.4</td>\n",
       "      <td>75755.32</td>\n",
       "      <td>246.76</td>\n",
       "      <td>0.238333</td>\n",
       "    </tr>\n",
       "    <tr>\n",
       "      <th>3</th>\n",
       "      <td>Coconut</td>\n",
       "      <td>1997</td>\n",
       "      <td>Whole Year</td>\n",
       "      <td>Assam</td>\n",
       "      <td>19656.0</td>\n",
       "      <td>126905000</td>\n",
       "      <td>2051.4</td>\n",
       "      <td>1870661.52</td>\n",
       "      <td>6093.36</td>\n",
       "      <td>5238.051739</td>\n",
       "    </tr>\n",
       "    <tr>\n",
       "      <th>4</th>\n",
       "      <td>Cotton(lint)</td>\n",
       "      <td>1997</td>\n",
       "      <td>Kharif</td>\n",
       "      <td>Assam</td>\n",
       "      <td>1739.0</td>\n",
       "      <td>794</td>\n",
       "      <td>2051.4</td>\n",
       "      <td>165500.63</td>\n",
       "      <td>539.09</td>\n",
       "      <td>0.420909</td>\n",
       "    </tr>\n",
       "  </tbody>\n",
       "</table>\n",
       "</div>"
      ],
      "text/plain": [
       "           Crop  Crop_Year       Season  State     Area  Production  \\\n",
       "0      Arecanut       1997  Whole Year   Assam  73814.0       56708   \n",
       "1     Arhar/Tur       1997  Kharif       Assam   6637.0        4685   \n",
       "2   Castor seed       1997  Kharif       Assam    796.0          22   \n",
       "3      Coconut        1997  Whole Year   Assam  19656.0   126905000   \n",
       "4  Cotton(lint)       1997  Kharif       Assam   1739.0         794   \n",
       "\n",
       "   Annual_Rainfall  Fertilizer  Pesticide        Yield  \n",
       "0           2051.4  7024878.38   22882.34     0.796087  \n",
       "1           2051.4   631643.29    2057.47     0.710435  \n",
       "2           2051.4    75755.32     246.76     0.238333  \n",
       "3           2051.4  1870661.52    6093.36  5238.051739  \n",
       "4           2051.4   165500.63     539.09     0.420909  "
      ]
     },
     "execution_count": 20,
     "metadata": {},
     "output_type": "execute_result"
    }
   ],
   "source": [
    "df_agronomic.head()"
   ]
  },
  {
   "cell_type": "code",
   "execution_count": 21,
   "id": "217be6db",
   "metadata": {},
   "outputs": [
    {
     "data": {
      "text/plain": [
       "Crop               0\n",
       "Crop_Year          0\n",
       "Season             0\n",
       "State              0\n",
       "Area               0\n",
       "Production         0\n",
       "Annual_Rainfall    0\n",
       "Fertilizer         0\n",
       "Pesticide          0\n",
       "Yield              0\n",
       "dtype: int64"
      ]
     },
     "execution_count": 21,
     "metadata": {},
     "output_type": "execute_result"
    }
   ],
   "source": [
    "# --- I'll check for missing values ---\n",
    "df_agronomic.isnull().sum()"
   ]
  },
  {
   "cell_type": "code",
   "execution_count": null,
   "id": "7787bb61",
   "metadata": {},
   "outputs": [],
   "source": [
    "# 3. Soil_Dataset\n",
    "soil_data_df= pd.read_csv(\"../data/raw_data/soil_data.csv\") "
   ]
  },
  {
   "cell_type": "code",
   "execution_count": 24,
   "id": "6a16a25e",
   "metadata": {},
   "outputs": [
    {
     "data": {
      "text/html": [
       "<div>\n",
       "<style scoped>\n",
       "    .dataframe tbody tr th:only-of-type {\n",
       "        vertical-align: middle;\n",
       "    }\n",
       "\n",
       "    .dataframe tbody tr th {\n",
       "        vertical-align: top;\n",
       "    }\n",
       "\n",
       "    .dataframe thead th {\n",
       "        text-align: right;\n",
       "    }\n",
       "</style>\n",
       "<table border=\"1\" class=\"dataframe\">\n",
       "  <thead>\n",
       "    <tr style=\"text-align: right;\">\n",
       "      <th></th>\n",
       "      <th>District</th>\n",
       "      <th>pH</th>\n",
       "    </tr>\n",
       "  </thead>\n",
       "  <tbody>\n",
       "    <tr>\n",
       "      <th>0</th>\n",
       "      <td>Andaman Islands</td>\n",
       "      <td>55.420561</td>\n",
       "    </tr>\n",
       "    <tr>\n",
       "      <th>1</th>\n",
       "      <td>Nicobar Islands</td>\n",
       "      <td>52.750000</td>\n",
       "    </tr>\n",
       "    <tr>\n",
       "      <th>2</th>\n",
       "      <td>Adilabad</td>\n",
       "      <td>69.975706</td>\n",
       "    </tr>\n",
       "    <tr>\n",
       "      <th>3</th>\n",
       "      <td>Anantapur</td>\n",
       "      <td>70.379444</td>\n",
       "    </tr>\n",
       "    <tr>\n",
       "      <th>4</th>\n",
       "      <td>Chittoor</td>\n",
       "      <td>68.944206</td>\n",
       "    </tr>\n",
       "  </tbody>\n",
       "</table>\n",
       "</div>"
      ],
      "text/plain": [
       "          District         pH\n",
       "0  Andaman Islands  55.420561\n",
       "1  Nicobar Islands  52.750000\n",
       "2         Adilabad  69.975706\n",
       "3        Anantapur  70.379444\n",
       "4         Chittoor  68.944206"
      ]
     },
     "execution_count": 24,
     "metadata": {},
     "output_type": "execute_result"
    }
   ],
   "source": [
    "soil_data_df.head()"
   ]
  },
  {
   "cell_type": "code",
   "execution_count": 23,
   "id": "7752688b",
   "metadata": {},
   "outputs": [
    {
     "data": {
      "text/plain": [
       "District    0\n",
       "pH          1\n",
       "dtype: int64"
      ]
     },
     "execution_count": 23,
     "metadata": {},
     "output_type": "execute_result"
    }
   ],
   "source": [
    "# --- I'll check for missing values ---\n",
    "soil_data_df.isnull().sum()"
   ]
  },
  {
   "cell_type": "code",
   "execution_count": 28,
   "id": "fd1033f4",
   "metadata": {},
   "outputs": [
    {
     "name": "stderr",
     "output_type": "stream",
     "text": [
      "C:\\Users\\Punith\\AppData\\Local\\Temp\\ipykernel_11112\\3917582625.py:2: FutureWarning: A value is trying to be set on a copy of a DataFrame or Series through chained assignment using an inplace method.\n",
      "The behavior will change in pandas 3.0. This inplace method will never work because the intermediate object on which we are setting values always behaves as a copy.\n",
      "\n",
      "For example, when doing 'df[col].method(value, inplace=True)', try using 'df.method({col: value}, inplace=True)' or df[col] = df[col].method(value) instead, to perform the operation inplace on the original object.\n",
      "\n",
      "\n",
      "  soil_data_df['pH'].fillna(soil_data_df['pH'].mean(), inplace=True)\n"
     ]
    }
   ],
   "source": [
    "# I'll fill the single missing pH value with the mean of the entire column.\n",
    "soil_data_df['pH'].fillna(soil_data_df['pH'].mean(), inplace=True)"
   ]
  },
  {
   "cell_type": "code",
   "execution_count": 29,
   "id": "3aa188f4",
   "metadata": {},
   "outputs": [
    {
     "data": {
      "text/plain": [
       "District    0\n",
       "pH          0\n",
       "dtype: int64"
      ]
     },
     "execution_count": 29,
     "metadata": {},
     "output_type": "execute_result"
    }
   ],
   "source": [
    "# --- I'll check for missing values ---\n",
    "soil_data_df.isnull().sum()"
   ]
  },
  {
   "cell_type": "markdown",
   "id": "13349c85",
   "metadata": {},
   "source": [
    "### Merging the dataset"
   ]
  },
  {
   "cell_type": "code",
   "execution_count": 73,
   "id": "7a3483da",
   "metadata": {},
   "outputs": [],
   "source": [
    "# 1.Merge Crop Data with Agronomic Dataset (Rainfall, Fertilizer, Pesticide)"
   ]
  },
  {
   "cell_type": "code",
   "execution_count": 60,
   "id": "88e8ceb4",
   "metadata": {},
   "outputs": [],
   "source": [
    "# Prepare the Crop Data for Merging\n",
    "# I'll first use .str.strip() to remove any hidden whitespace,\n",
    "# then slice the first 4 characters and convert to a number.\n",
    "df_crop['Year'] = df_crop['year'].str.strip().str.slice(0, 4).astype(int)"
   ]
  },
  {
   "cell_type": "code",
   "execution_count": null,
   "id": "cae06a49",
   "metadata": {},
   "outputs": [
    {
     "data": {
      "text/plain": [
       "array([1998, 2007, 2008, 2009, 2010, 2011, 2012, 2013, 2014, 2015, 2016,\n",
       "       1999, 2018, 2017, 2019, 2020, 2000, 2001, 2002, 2003, 2004, 2005,\n",
       "       2006, 1997])"
      ]
     },
     "execution_count": 67,
     "metadata": {},
     "output_type": "execute_result"
    }
   ],
   "source": [
    "df_crop[\"Year\"].unique()"
   ]
  },
  {
   "cell_type": "code",
   "execution_count": 61,
   "id": "6332f476",
   "metadata": {},
   "outputs": [
    {
     "data": {
      "text/plain": [
       "Index(['id', 'year', 'state_name', 'state_code', 'district_name',\n",
       "       'district_code', 'season', 'crop_code', 'crop_name', 'crop_type',\n",
       "       'area', 'area_unit', 'production', 'production_unit', 'yield',\n",
       "       'yield_unit', 'Year'],\n",
       "      dtype='object')"
      ]
     },
     "execution_count": 61,
     "metadata": {},
     "output_type": "execute_result"
    }
   ],
   "source": [
    "df_crop.columns"
   ]
  },
  {
   "cell_type": "code",
   "execution_count": 62,
   "id": "757113e8",
   "metadata": {},
   "outputs": [
    {
     "data": {
      "text/plain": [
       "array(['Hectare'], dtype=object)"
      ]
     },
     "execution_count": 62,
     "metadata": {},
     "output_type": "execute_result"
    }
   ],
   "source": [
    "df_crop['area_unit'].unique()"
   ]
  },
  {
   "cell_type": "code",
   "execution_count": 63,
   "id": "859ffb6b",
   "metadata": {},
   "outputs": [
    {
     "data": {
      "text/plain": [
       "array(['Tonnes'], dtype=object)"
      ]
     },
     "execution_count": 63,
     "metadata": {},
     "output_type": "execute_result"
    }
   ],
   "source": [
    "df_crop['production_unit'].unique()"
   ]
  },
  {
   "cell_type": "code",
   "execution_count": 64,
   "id": "1b448c67",
   "metadata": {},
   "outputs": [
    {
     "data": {
      "text/plain": [
       "array(['Tonnes/Hectare'], dtype=object)"
      ]
     },
     "execution_count": 64,
     "metadata": {},
     "output_type": "execute_result"
    }
   ],
   "source": [
    "df_crop['yield_unit'].unique()"
   ]
  },
  {
   "cell_type": "code",
   "execution_count": 65,
   "id": "4455ebe4",
   "metadata": {},
   "outputs": [],
   "source": [
    "# Now I'll select and rename the columns I need, adding the units to the names.\n",
    "df_crop_clean = df_crop[['state_name', 'district_name',\n",
    "                         'Year', 'season', 'crop_name', 'area', 'yield']].copy()\n",
    "df_crop_clean.rename(columns={\n",
    "    'state_name': 'State',\n",
    "    'district_name': 'District',\n",
    "    'season': 'Season',\n",
    "    'crop_name': 'Crop',\n",
    "    'area': 'Area_Hectare',\n",
    "    'yield': 'Yield_Tonnes/Hectare'\n",
    "}, inplace=True)"
   ]
  },
  {
   "cell_type": "code",
   "execution_count": 66,
   "id": "e82e5b8b",
   "metadata": {},
   "outputs": [
    {
     "data": {
      "text/html": [
       "<div>\n",
       "<style scoped>\n",
       "    .dataframe tbody tr th:only-of-type {\n",
       "        vertical-align: middle;\n",
       "    }\n",
       "\n",
       "    .dataframe tbody tr th {\n",
       "        vertical-align: top;\n",
       "    }\n",
       "\n",
       "    .dataframe thead th {\n",
       "        text-align: right;\n",
       "    }\n",
       "</style>\n",
       "<table border=\"1\" class=\"dataframe\">\n",
       "  <thead>\n",
       "    <tr style=\"text-align: right;\">\n",
       "      <th></th>\n",
       "      <th>State</th>\n",
       "      <th>District</th>\n",
       "      <th>Year</th>\n",
       "      <th>Season</th>\n",
       "      <th>Crop</th>\n",
       "      <th>Area_Hectare</th>\n",
       "      <th>Yield_Tonnes/Hectare</th>\n",
       "    </tr>\n",
       "  </thead>\n",
       "  <tbody>\n",
       "    <tr>\n",
       "      <th>0</th>\n",
       "      <td>Telangana</td>\n",
       "      <td>Adilabad</td>\n",
       "      <td>1998</td>\n",
       "      <td>Kharif</td>\n",
       "      <td>Arhar/Tur</td>\n",
       "      <td>35900.0</td>\n",
       "      <td>0.35</td>\n",
       "    </tr>\n",
       "    <tr>\n",
       "      <th>1</th>\n",
       "      <td>Telangana</td>\n",
       "      <td>Adilabad</td>\n",
       "      <td>1998</td>\n",
       "      <td>Rabi</td>\n",
       "      <td>Arhar/Tur</td>\n",
       "      <td>100.0</td>\n",
       "      <td>1.00</td>\n",
       "    </tr>\n",
       "    <tr>\n",
       "      <th>2</th>\n",
       "      <td>Andhra Pradesh</td>\n",
       "      <td>Anantapur</td>\n",
       "      <td>1998</td>\n",
       "      <td>Kharif</td>\n",
       "      <td>Arhar/Tur</td>\n",
       "      <td>27400.0</td>\n",
       "      <td>0.33</td>\n",
       "    </tr>\n",
       "    <tr>\n",
       "      <th>3</th>\n",
       "      <td>Andhra Pradesh</td>\n",
       "      <td>Chittoor</td>\n",
       "      <td>1998</td>\n",
       "      <td>Kharif</td>\n",
       "      <td>Arhar/Tur</td>\n",
       "      <td>6100.0</td>\n",
       "      <td>0.16</td>\n",
       "    </tr>\n",
       "    <tr>\n",
       "      <th>4</th>\n",
       "      <td>Andhra Pradesh</td>\n",
       "      <td>East Godavari</td>\n",
       "      <td>1998</td>\n",
       "      <td>Kharif</td>\n",
       "      <td>Arhar/Tur</td>\n",
       "      <td>2100.0</td>\n",
       "      <td>0.14</td>\n",
       "    </tr>\n",
       "  </tbody>\n",
       "</table>\n",
       "</div>"
      ],
      "text/plain": [
       "            State       District  Year       Season       Crop  Area_Hectare  \\\n",
       "0       Telangana       Adilabad  1998  Kharif       Arhar/Tur       35900.0   \n",
       "1       Telangana       Adilabad  1998  Rabi         Arhar/Tur         100.0   \n",
       "2  Andhra Pradesh      Anantapur  1998  Kharif       Arhar/Tur       27400.0   \n",
       "3  Andhra Pradesh       Chittoor  1998  Kharif       Arhar/Tur        6100.0   \n",
       "4  Andhra Pradesh  East Godavari  1998  Kharif       Arhar/Tur        2100.0   \n",
       "\n",
       "   Yield_Tonnes/Hectare  \n",
       "0                  0.35  \n",
       "1                  1.00  \n",
       "2                  0.33  \n",
       "3                  0.16  \n",
       "4                  0.14  "
      ]
     },
     "execution_count": 66,
     "metadata": {},
     "output_type": "execute_result"
    }
   ],
   "source": [
    "df_crop_clean.head()"
   ]
  },
  {
   "cell_type": "code",
   "execution_count": 68,
   "id": "8b577c89",
   "metadata": {},
   "outputs": [
    {
     "data": {
      "text/plain": [
       "array(['Arhar/Tur', 'Bajra', 'Castor Seed', 'Cotton(Lint)',\n",
       "       'Dry Chillies', 'Gram', 'Groundnut', 'Horse-Gram', 'Jowar',\n",
       "       'Maize', 'Mesta', 'Moong(Green Gram)', 'Other  Rabi Pulses',\n",
       "       'Other Kharif Pulses', 'Ragi', 'Rice', 'Sesamum', 'Small Millets',\n",
       "       'Sugarcane', 'Sunflower', 'Tobacco', 'Urad', 'Wheat', 'Ginger',\n",
       "       'Potato', 'Rapeseed &Mustard', 'Soyabean', 'Turmeric', 'Arecanut',\n",
       "       'Banana', 'Coconut', 'Jute', 'Linseed', 'Niger Seed', 'Onion',\n",
       "       'Sweet Potato', 'Tapioca', 'Barley', 'Coriander', 'Garlic',\n",
       "       'Safflower', 'Sannhamp', 'Masoor', 'Moth', 'Other Cereals',\n",
       "       'Peas & Beans (Pulses)', 'Black Pepper', 'Cardamom', 'Cashewnut',\n",
       "       'Other Oilseeds', 'Khesari', 'Guar Seed', 'Cowpea(Lobia)',\n",
       "       'Other Summer Pulses'], dtype=object)"
      ]
     },
     "execution_count": 68,
     "metadata": {},
     "output_type": "execute_result"
    }
   ],
   "source": [
    "df_crop_clean['Crop'].unique()"
   ]
  },
  {
   "cell_type": "code",
   "execution_count": 101,
   "id": "b527dc47",
   "metadata": {},
   "outputs": [],
   "source": [
    "# --- 1. I'll prepare the agronomic data for the merge ---\n",
    "# I'll select only the columns we need to avoid duplicates.\n",
    "agronomic_features = df_agronomic[[\n",
    "    'State', 'Crop_Year', 'Crop', 'Annual_Rainfall', 'Fertilizer', 'Pesticide']].copy()"
   ]
  },
  {
   "cell_type": "code",
   "execution_count": 102,
   "id": "36a2839a",
   "metadata": {},
   "outputs": [],
   "source": [
    "# I'll rename the columns for consistency before merging.\n",
    "agronomic_features.rename(columns={\n",
    "    'Crop_Year': 'Year',\n",
    "    'Annual_Rainfall': 'Rainfall_mm',\n",
    "    'Fertilizer': 'Fertilizer_kg',  \n",
    "    'Pesticide': 'Pesticide_kg'\n",
    "}, inplace=True)"
   ]
  },
  {
   "cell_type": "code",
   "execution_count": 103,
   "id": "75bfda98",
   "metadata": {},
   "outputs": [],
   "source": [
    "# I'll standardize the 'State' and 'Crop' columns to title case to match the crop data.\n",
    "agronomic_features['State'] = agronomic_features['State'].str.title()\n",
    "agronomic_features['Crop'] = agronomic_features['Crop'].str.title()"
   ]
  },
  {
   "cell_type": "code",
   "execution_count": 93,
   "id": "6a72deed",
   "metadata": {},
   "outputs": [
    {
     "data": {
      "text/plain": [
       "(345273, 7)"
      ]
     },
     "execution_count": 93,
     "metadata": {},
     "output_type": "execute_result"
    }
   ],
   "source": [
    "df_crop_clean.shape"
   ]
  },
  {
   "cell_type": "code",
   "execution_count": 94,
   "id": "54a81bda",
   "metadata": {},
   "outputs": [
    {
     "data": {
      "text/plain": [
       "(19689, 10)"
      ]
     },
     "execution_count": 94,
     "metadata": {},
     "output_type": "execute_result"
    }
   ],
   "source": [
    "df_agronomic.shape"
   ]
  },
  {
   "cell_type": "code",
   "execution_count": 99,
   "id": "255de438",
   "metadata": {},
   "outputs": [
    {
     "name": "stdout",
     "output_type": "stream",
     "text": [
      "['Telangana' 'Andhra Pradesh' 'Arunachal Pradesh' 'Assam' 'Bihar'\n",
      " 'Jharkhand' 'Chandigarh' 'The Dadra And Nagar Haveli And Daman And Diu'\n",
      " 'Delhi' 'Goa' 'Gujarat' 'Haryana' 'Himachal Pradesh' 'Karnataka' 'Kerala'\n",
      " 'Madhya Pradesh' 'Chhattisgarh' 'Maharashtra' 'Manipur' 'Meghalaya'\n",
      " 'Mizoram' 'Nagaland' 'Odisha' 'Puducherry' 'Punjab' 'Rajasthan' 'Sikkim'\n",
      " 'Tamil Nadu' 'Tripura' 'Uttar Pradesh' 'Uttarakhand' 'West Bengal'\n",
      " 'Andaman And Nicobar Islands' 'Jammu And Kashmir' 'Ladakh']\n",
      "[1998 2007 2008 2009 2010 2011 2012 2013 2014 2015 2016 1999 2018 2017\n",
      " 2019 2020 2000 2001 2002 2003 2004 2005 2006 1997]\n",
      "['Arhar/Tur' 'Bajra' 'Castor Seed' 'Cotton(Lint)' 'Dry Chillies' 'Gram'\n",
      " 'Groundnut' 'Horse-Gram' 'Jowar' 'Maize' 'Mesta' 'Moong(Green Gram)'\n",
      " 'Other  Rabi Pulses' 'Other Kharif Pulses' 'Ragi' 'Rice' 'Sesamum'\n",
      " 'Small Millets' 'Sugarcane' 'Sunflower' 'Tobacco' 'Urad' 'Wheat' 'Ginger'\n",
      " 'Potato' 'Rapeseed &Mustard' 'Soyabean' 'Turmeric' 'Arecanut' 'Banana'\n",
      " 'Coconut' 'Jute' 'Linseed' 'Niger Seed' 'Onion' 'Sweet Potato' 'Tapioca'\n",
      " 'Barley' 'Coriander' 'Garlic' 'Safflower' 'Sannhamp' 'Masoor' 'Moth'\n",
      " 'Other Cereals' 'Peas & Beans (Pulses)' 'Black Pepper' 'Cardamom'\n",
      " 'Cashewnut' 'Other Oilseeds' 'Khesari' 'Guar Seed' 'Cowpea(Lobia)'\n",
      " 'Other Summer Pulses']\n"
     ]
    }
   ],
   "source": [
    "print(df_crop_clean['State'].unique())\n",
    "print(df_crop_clean['Year'].unique())\n",
    "print(df_crop_clean['Crop'].unique())"
   ]
  },
  {
   "cell_type": "code",
   "execution_count": 100,
   "id": "d391a054",
   "metadata": {},
   "outputs": [
    {
     "name": "stdout",
     "output_type": "stream",
     "text": [
      "['Assam' 'Karnataka' 'Kerala' 'Meghalaya' 'West Bengal' 'Puducherry' 'Goa'\n",
      " 'Andhra Pradesh' 'Tamil Nadu' 'Odisha' 'Bihar' 'Gujarat' 'Madhya Pradesh'\n",
      " 'Maharashtra' 'Mizoram' 'Punjab' 'Uttar Pradesh' 'Haryana'\n",
      " 'Himachal Pradesh' 'Tripura' 'Nagaland' 'Chhattisgarh' 'Uttarakhand'\n",
      " 'Jharkhand' 'Delhi' 'Manipur' 'Jammu And Kashmir' 'Telangana'\n",
      " 'Arunachal Pradesh' 'Sikkim']\n",
      "[1997 1998 1999 2000 2001 2002 2003 2004 2005 2006 2007 2008 2009 2010\n",
      " 2011 2012 2013 2014 2015 2016 2017 2018 2019 2020]\n",
      "['Arecanut' 'Arhar/Tur' 'Castor seed' 'Coconut ' 'Cotton(lint)'\n",
      " 'Dry chillies' 'Gram' 'Jute' 'Linseed' 'Maize' 'Mesta' 'Niger seed'\n",
      " 'Onion' 'Other  Rabi pulses' 'Potato' 'Rapeseed &Mustard' 'Rice'\n",
      " 'Sesamum' 'Small millets' 'Sugarcane' 'Sweet potato' 'Tapioca' 'Tobacco'\n",
      " 'Turmeric' 'Wheat' 'Bajra' 'Black pepper' 'Cardamom' 'Coriander' 'Garlic'\n",
      " 'Ginger' 'Groundnut' 'Horse-gram' 'Jowar' 'Ragi' 'Cashewnut' 'Banana'\n",
      " 'Soyabean' 'Barley' 'Khesari' 'Masoor' 'Moong(Green Gram)'\n",
      " 'Other Kharif pulses' 'Safflower' 'Sannhamp' 'Sunflower' 'Urad'\n",
      " 'Peas & beans (Pulses)' 'other oilseeds' 'Other Cereals' 'Cowpea(Lobia)'\n",
      " 'Oilseeds total' 'Guar seed' 'Other Summer Pulses' 'Moth']\n"
     ]
    }
   ],
   "source": [
    "print(agronomic_features['State'].unique())\n",
    "print(agronomic_features['Year'].unique())\n",
    "print(agronomic_features['Crop'].unique())"
   ]
  },
  {
   "cell_type": "code",
   "execution_count": 104,
   "id": "ab12d7c8",
   "metadata": {},
   "outputs": [],
   "source": [
    "# --- 2. I'll aggregate the data to create unique keys ---\n",
    "# I'm grouping by the key and taking the mean.\n",
    "agronomic_aggregated = agronomic_features.groupby(\n",
    "    ['State', 'Year', 'Crop']).mean().reset_index()"
   ]
  },
  {
   "cell_type": "code",
   "execution_count": 105,
   "id": "fa613262",
   "metadata": {},
   "outputs": [],
   "source": [
    "# --- 3. Now, I'll merge with the aggregated data ---\n",
    "df_merged_agronomic = pd.merge(\n",
    "    df_crop_clean,\n",
    "    agronomic_aggregated,\n",
    "    on=['State', 'Year', 'Crop'],\n",
    "    how='left'\n",
    ")"
   ]
  },
  {
   "cell_type": "code",
   "execution_count": 106,
   "id": "2287f6ad",
   "metadata": {},
   "outputs": [
    {
     "data": {
      "text/plain": [
       "(345273, 10)"
      ]
     },
     "execution_count": 106,
     "metadata": {},
     "output_type": "execute_result"
    }
   ],
   "source": [
    "df_merged_agronomic.shape"
   ]
  },
  {
   "cell_type": "code",
   "execution_count": 108,
   "id": "3c1dcc0d",
   "metadata": {},
   "outputs": [
    {
     "data": {
      "text/html": [
       "<div>\n",
       "<style scoped>\n",
       "    .dataframe tbody tr th:only-of-type {\n",
       "        vertical-align: middle;\n",
       "    }\n",
       "\n",
       "    .dataframe tbody tr th {\n",
       "        vertical-align: top;\n",
       "    }\n",
       "\n",
       "    .dataframe thead th {\n",
       "        text-align: right;\n",
       "    }\n",
       "</style>\n",
       "<table border=\"1\" class=\"dataframe\">\n",
       "  <thead>\n",
       "    <tr style=\"text-align: right;\">\n",
       "      <th></th>\n",
       "      <th>State</th>\n",
       "      <th>District</th>\n",
       "      <th>Year</th>\n",
       "      <th>Season</th>\n",
       "      <th>Crop</th>\n",
       "      <th>Area_Hectare</th>\n",
       "      <th>Yield_Tonnes/Hectare</th>\n",
       "      <th>Rainfall_mm</th>\n",
       "      <th>Fertilizer_kg</th>\n",
       "      <th>Pesticide_kg</th>\n",
       "    </tr>\n",
       "  </thead>\n",
       "  <tbody>\n",
       "    <tr>\n",
       "      <th>0</th>\n",
       "      <td>Telangana</td>\n",
       "      <td>Adilabad</td>\n",
       "      <td>1998</td>\n",
       "      <td>Kharif</td>\n",
       "      <td>Arhar/Tur</td>\n",
       "      <td>35900.0</td>\n",
       "      <td>0.35</td>\n",
       "      <td>NaN</td>\n",
       "      <td>NaN</td>\n",
       "      <td>NaN</td>\n",
       "    </tr>\n",
       "    <tr>\n",
       "      <th>1</th>\n",
       "      <td>Telangana</td>\n",
       "      <td>Adilabad</td>\n",
       "      <td>1998</td>\n",
       "      <td>Rabi</td>\n",
       "      <td>Arhar/Tur</td>\n",
       "      <td>100.0</td>\n",
       "      <td>1.00</td>\n",
       "      <td>NaN</td>\n",
       "      <td>NaN</td>\n",
       "      <td>NaN</td>\n",
       "    </tr>\n",
       "    <tr>\n",
       "      <th>2</th>\n",
       "      <td>Andhra Pradesh</td>\n",
       "      <td>Anantapur</td>\n",
       "      <td>1998</td>\n",
       "      <td>Kharif</td>\n",
       "      <td>Arhar/Tur</td>\n",
       "      <td>27400.0</td>\n",
       "      <td>0.33</td>\n",
       "      <td>1048.3</td>\n",
       "      <td>19458660.0</td>\n",
       "      <td>57115.5</td>\n",
       "    </tr>\n",
       "    <tr>\n",
       "      <th>3</th>\n",
       "      <td>Andhra Pradesh</td>\n",
       "      <td>Chittoor</td>\n",
       "      <td>1998</td>\n",
       "      <td>Kharif</td>\n",
       "      <td>Arhar/Tur</td>\n",
       "      <td>6100.0</td>\n",
       "      <td>0.16</td>\n",
       "      <td>1048.3</td>\n",
       "      <td>19458660.0</td>\n",
       "      <td>57115.5</td>\n",
       "    </tr>\n",
       "    <tr>\n",
       "      <th>4</th>\n",
       "      <td>Andhra Pradesh</td>\n",
       "      <td>East Godavari</td>\n",
       "      <td>1998</td>\n",
       "      <td>Kharif</td>\n",
       "      <td>Arhar/Tur</td>\n",
       "      <td>2100.0</td>\n",
       "      <td>0.14</td>\n",
       "      <td>1048.3</td>\n",
       "      <td>19458660.0</td>\n",
       "      <td>57115.5</td>\n",
       "    </tr>\n",
       "    <tr>\n",
       "      <th>5</th>\n",
       "      <td>Andhra Pradesh</td>\n",
       "      <td>Guntur</td>\n",
       "      <td>1998</td>\n",
       "      <td>Kharif</td>\n",
       "      <td>Arhar/Tur</td>\n",
       "      <td>27100.0</td>\n",
       "      <td>0.76</td>\n",
       "      <td>1048.3</td>\n",
       "      <td>19458660.0</td>\n",
       "      <td>57115.5</td>\n",
       "    </tr>\n",
       "    <tr>\n",
       "      <th>6</th>\n",
       "      <td>Andhra Pradesh</td>\n",
       "      <td>Guntur</td>\n",
       "      <td>1998</td>\n",
       "      <td>Rabi</td>\n",
       "      <td>Arhar/Tur</td>\n",
       "      <td>200.0</td>\n",
       "      <td>1.00</td>\n",
       "      <td>1048.3</td>\n",
       "      <td>19458660.0</td>\n",
       "      <td>57115.5</td>\n",
       "    </tr>\n",
       "    <tr>\n",
       "      <th>7</th>\n",
       "      <td>Andhra Pradesh</td>\n",
       "      <td>Kadapa</td>\n",
       "      <td>1998</td>\n",
       "      <td>Kharif</td>\n",
       "      <td>Arhar/Tur</td>\n",
       "      <td>7600.0</td>\n",
       "      <td>0.58</td>\n",
       "      <td>1048.3</td>\n",
       "      <td>19458660.0</td>\n",
       "      <td>57115.5</td>\n",
       "    </tr>\n",
       "    <tr>\n",
       "      <th>8</th>\n",
       "      <td>Andhra Pradesh</td>\n",
       "      <td>Karimnagar</td>\n",
       "      <td>1998</td>\n",
       "      <td>Kharif</td>\n",
       "      <td>Arhar/Tur</td>\n",
       "      <td>5400.0</td>\n",
       "      <td>0.37</td>\n",
       "      <td>1048.3</td>\n",
       "      <td>19458660.0</td>\n",
       "      <td>57115.5</td>\n",
       "    </tr>\n",
       "    <tr>\n",
       "      <th>9</th>\n",
       "      <td>Andhra Pradesh</td>\n",
       "      <td>Karimnagar</td>\n",
       "      <td>1998</td>\n",
       "      <td>Rabi</td>\n",
       "      <td>Arhar/Tur</td>\n",
       "      <td>300.0</td>\n",
       "      <td>0.33</td>\n",
       "      <td>1048.3</td>\n",
       "      <td>19458660.0</td>\n",
       "      <td>57115.5</td>\n",
       "    </tr>\n",
       "    <tr>\n",
       "      <th>10</th>\n",
       "      <td>Andhra Pradesh</td>\n",
       "      <td>Khammam</td>\n",
       "      <td>1998</td>\n",
       "      <td>Kharif</td>\n",
       "      <td>Arhar/Tur</td>\n",
       "      <td>23200.0</td>\n",
       "      <td>0.50</td>\n",
       "      <td>1048.3</td>\n",
       "      <td>19458660.0</td>\n",
       "      <td>57115.5</td>\n",
       "    </tr>\n",
       "    <tr>\n",
       "      <th>11</th>\n",
       "      <td>Andhra Pradesh</td>\n",
       "      <td>Khammam</td>\n",
       "      <td>1998</td>\n",
       "      <td>Rabi</td>\n",
       "      <td>Arhar/Tur</td>\n",
       "      <td>500.0</td>\n",
       "      <td>0.40</td>\n",
       "      <td>1048.3</td>\n",
       "      <td>19458660.0</td>\n",
       "      <td>57115.5</td>\n",
       "    </tr>\n",
       "    <tr>\n",
       "      <th>12</th>\n",
       "      <td>Andhra Pradesh</td>\n",
       "      <td>Krishna</td>\n",
       "      <td>1998</td>\n",
       "      <td>Kharif</td>\n",
       "      <td>Arhar/Tur</td>\n",
       "      <td>8800.0</td>\n",
       "      <td>0.57</td>\n",
       "      <td>1048.3</td>\n",
       "      <td>19458660.0</td>\n",
       "      <td>57115.5</td>\n",
       "    </tr>\n",
       "    <tr>\n",
       "      <th>13</th>\n",
       "      <td>Andhra Pradesh</td>\n",
       "      <td>Krishna</td>\n",
       "      <td>1998</td>\n",
       "      <td>Rabi</td>\n",
       "      <td>Arhar/Tur</td>\n",
       "      <td>100.0</td>\n",
       "      <td>1.00</td>\n",
       "      <td>1048.3</td>\n",
       "      <td>19458660.0</td>\n",
       "      <td>57115.5</td>\n",
       "    </tr>\n",
       "    <tr>\n",
       "      <th>14</th>\n",
       "      <td>Andhra Pradesh</td>\n",
       "      <td>Kurnool</td>\n",
       "      <td>1998</td>\n",
       "      <td>Kharif</td>\n",
       "      <td>Arhar/Tur</td>\n",
       "      <td>26400.0</td>\n",
       "      <td>0.38</td>\n",
       "      <td>1048.3</td>\n",
       "      <td>19458660.0</td>\n",
       "      <td>57115.5</td>\n",
       "    </tr>\n",
       "    <tr>\n",
       "      <th>15</th>\n",
       "      <td>Andhra Pradesh</td>\n",
       "      <td>Kurnool</td>\n",
       "      <td>1998</td>\n",
       "      <td>Rabi</td>\n",
       "      <td>Arhar/Tur</td>\n",
       "      <td>600.0</td>\n",
       "      <td>0.33</td>\n",
       "      <td>1048.3</td>\n",
       "      <td>19458660.0</td>\n",
       "      <td>57115.5</td>\n",
       "    </tr>\n",
       "    <tr>\n",
       "      <th>16</th>\n",
       "      <td>Telangana</td>\n",
       "      <td>Mahabubnagar</td>\n",
       "      <td>1998</td>\n",
       "      <td>Kharif</td>\n",
       "      <td>Arhar/Tur</td>\n",
       "      <td>49400.0</td>\n",
       "      <td>0.24</td>\n",
       "      <td>NaN</td>\n",
       "      <td>NaN</td>\n",
       "      <td>NaN</td>\n",
       "    </tr>\n",
       "    <tr>\n",
       "      <th>17</th>\n",
       "      <td>Andhra Pradesh</td>\n",
       "      <td>Medak</td>\n",
       "      <td>1998</td>\n",
       "      <td>Kharif</td>\n",
       "      <td>Arhar/Tur</td>\n",
       "      <td>18000.0</td>\n",
       "      <td>0.35</td>\n",
       "      <td>1048.3</td>\n",
       "      <td>19458660.0</td>\n",
       "      <td>57115.5</td>\n",
       "    </tr>\n",
       "    <tr>\n",
       "      <th>18</th>\n",
       "      <td>Andhra Pradesh</td>\n",
       "      <td>Nalgonda</td>\n",
       "      <td>1998</td>\n",
       "      <td>Kharif</td>\n",
       "      <td>Arhar/Tur</td>\n",
       "      <td>26400.0</td>\n",
       "      <td>0.45</td>\n",
       "      <td>1048.3</td>\n",
       "      <td>19458660.0</td>\n",
       "      <td>57115.5</td>\n",
       "    </tr>\n",
       "    <tr>\n",
       "      <th>19</th>\n",
       "      <td>Andhra Pradesh</td>\n",
       "      <td>Nizamabad</td>\n",
       "      <td>1998</td>\n",
       "      <td>Kharif</td>\n",
       "      <td>Arhar/Tur</td>\n",
       "      <td>2200.0</td>\n",
       "      <td>0.36</td>\n",
       "      <td>1048.3</td>\n",
       "      <td>19458660.0</td>\n",
       "      <td>57115.5</td>\n",
       "    </tr>\n",
       "  </tbody>\n",
       "</table>\n",
       "</div>"
      ],
      "text/plain": [
       "             State       District  Year       Season       Crop  Area_Hectare  \\\n",
       "0        Telangana       Adilabad  1998  Kharif       Arhar/Tur       35900.0   \n",
       "1        Telangana       Adilabad  1998  Rabi         Arhar/Tur         100.0   \n",
       "2   Andhra Pradesh      Anantapur  1998  Kharif       Arhar/Tur       27400.0   \n",
       "3   Andhra Pradesh       Chittoor  1998  Kharif       Arhar/Tur        6100.0   \n",
       "4   Andhra Pradesh  East Godavari  1998  Kharif       Arhar/Tur        2100.0   \n",
       "5   Andhra Pradesh         Guntur  1998  Kharif       Arhar/Tur       27100.0   \n",
       "6   Andhra Pradesh         Guntur  1998  Rabi         Arhar/Tur         200.0   \n",
       "7   Andhra Pradesh         Kadapa  1998  Kharif       Arhar/Tur        7600.0   \n",
       "8   Andhra Pradesh     Karimnagar  1998  Kharif       Arhar/Tur        5400.0   \n",
       "9   Andhra Pradesh     Karimnagar  1998  Rabi         Arhar/Tur         300.0   \n",
       "10  Andhra Pradesh        Khammam  1998  Kharif       Arhar/Tur       23200.0   \n",
       "11  Andhra Pradesh        Khammam  1998  Rabi         Arhar/Tur         500.0   \n",
       "12  Andhra Pradesh        Krishna  1998  Kharif       Arhar/Tur        8800.0   \n",
       "13  Andhra Pradesh        Krishna  1998  Rabi         Arhar/Tur         100.0   \n",
       "14  Andhra Pradesh        Kurnool  1998  Kharif       Arhar/Tur       26400.0   \n",
       "15  Andhra Pradesh        Kurnool  1998  Rabi         Arhar/Tur         600.0   \n",
       "16       Telangana   Mahabubnagar  1998  Kharif       Arhar/Tur       49400.0   \n",
       "17  Andhra Pradesh          Medak  1998  Kharif       Arhar/Tur       18000.0   \n",
       "18  Andhra Pradesh       Nalgonda  1998  Kharif       Arhar/Tur       26400.0   \n",
       "19  Andhra Pradesh      Nizamabad  1998  Kharif       Arhar/Tur        2200.0   \n",
       "\n",
       "    Yield_Tonnes/Hectare  Rainfall_mm  Fertilizer_kg  Pesticide_kg  \n",
       "0                   0.35          NaN            NaN           NaN  \n",
       "1                   1.00          NaN            NaN           NaN  \n",
       "2                   0.33       1048.3     19458660.0       57115.5  \n",
       "3                   0.16       1048.3     19458660.0       57115.5  \n",
       "4                   0.14       1048.3     19458660.0       57115.5  \n",
       "5                   0.76       1048.3     19458660.0       57115.5  \n",
       "6                   1.00       1048.3     19458660.0       57115.5  \n",
       "7                   0.58       1048.3     19458660.0       57115.5  \n",
       "8                   0.37       1048.3     19458660.0       57115.5  \n",
       "9                   0.33       1048.3     19458660.0       57115.5  \n",
       "10                  0.50       1048.3     19458660.0       57115.5  \n",
       "11                  0.40       1048.3     19458660.0       57115.5  \n",
       "12                  0.57       1048.3     19458660.0       57115.5  \n",
       "13                  1.00       1048.3     19458660.0       57115.5  \n",
       "14                  0.38       1048.3     19458660.0       57115.5  \n",
       "15                  0.33       1048.3     19458660.0       57115.5  \n",
       "16                  0.24          NaN            NaN           NaN  \n",
       "17                  0.35       1048.3     19458660.0       57115.5  \n",
       "18                  0.45       1048.3     19458660.0       57115.5  \n",
       "19                  0.36       1048.3     19458660.0       57115.5  "
      ]
     },
     "execution_count": 108,
     "metadata": {},
     "output_type": "execute_result"
    }
   ],
   "source": [
    "df_merged_agronomic.head(20)"
   ]
  },
  {
   "cell_type": "code",
   "execution_count": 109,
   "id": "62789f3b",
   "metadata": {},
   "outputs": [
    {
     "data": {
      "text/plain": [
       "State                       0\n",
       "District                    0\n",
       "Year                        0\n",
       "Season                      0\n",
       "Crop                        0\n",
       "Area_Hectare                0\n",
       "Yield_Tonnes/Hectare        0\n",
       "Rainfall_mm             27795\n",
       "Fertilizer_kg           27795\n",
       "Pesticide_kg            27795\n",
       "dtype: int64"
      ]
     },
     "execution_count": 109,
     "metadata": {},
     "output_type": "execute_result"
    }
   ],
   "source": [
    "df_merged_agronomic.isnull().sum()"
   ]
  },
  {
   "cell_type": "code",
   "execution_count": 110,
   "id": "7b50393c",
   "metadata": {},
   "outputs": [],
   "source": [
    "# I'll define the columns that have missing values.\n",
    "cols_to_fill = ['Rainfall_mm', 'Fertilizer_kg', 'Pesticide_kg']"
   ]
  },
  {
   "cell_type": "code",
   "execution_count": 111,
   "id": "f397d238",
   "metadata": {},
   "outputs": [],
   "source": [
    "# For each column, I'll group by State and Crop, then interpolate.\n",
    "# This fills missing years based on the trend for that specific crop in that state.\n",
    "for col in cols_to_fill:\n",
    "    df_merged_agronomic[col] = df_merged_agronomic.groupby(['State', 'Crop'])[col].transform(\n",
    "        lambda x: x.interpolate(method='linear')\n",
    "    )"
   ]
  },
  {
   "cell_type": "code",
   "execution_count": 112,
   "id": "c3818135",
   "metadata": {},
   "outputs": [
    {
     "data": {
      "text/plain": [
       "State                       0\n",
       "District                    0\n",
       "Year                        0\n",
       "Season                      0\n",
       "Crop                        0\n",
       "Area_Hectare                0\n",
       "Yield_Tonnes/Hectare        0\n",
       "Rainfall_mm             26684\n",
       "Fertilizer_kg           26684\n",
       "Pesticide_kg            26684\n",
       "dtype: int64"
      ]
     },
     "execution_count": 112,
     "metadata": {},
     "output_type": "execute_result"
    }
   ],
   "source": [
    "df_merged_agronomic.isnull().sum()"
   ]
  },
  {
   "cell_type": "code",
   "execution_count": 113,
   "id": "17c7cb28",
   "metadata": {},
   "outputs": [
    {
     "name": "stderr",
     "output_type": "stream",
     "text": [
      "C:\\Users\\Punith\\AppData\\Local\\Temp\\ipykernel_11112\\43520398.py:3: FutureWarning: DataFrame.fillna with 'method' is deprecated and will raise in a future version. Use obj.ffill() or obj.bfill() instead.\n",
      "  df_merged_agronomic.fillna(method='bfill', inplace=True)\n",
      "C:\\Users\\Punith\\AppData\\Local\\Temp\\ipykernel_11112\\43520398.py:4: FutureWarning: DataFrame.fillna with 'method' is deprecated and will raise in a future version. Use obj.ffill() or obj.bfill() instead.\n",
      "  df_merged_agronomic.fillna(method='ffill', inplace=True)\n"
     ]
    }
   ],
   "source": [
    "# Interpolation can't fill values at the very beginning or end of a group.\n",
    "# I'll use back-fill and forward-fill to handle any remaining NaNs.\n",
    "df_merged_agronomic.fillna(method='bfill', inplace=True)\n",
    "df_merged_agronomic.fillna(method='ffill', inplace=True)"
   ]
  },
  {
   "cell_type": "code",
   "execution_count": 114,
   "id": "1a9902d2",
   "metadata": {},
   "outputs": [
    {
     "data": {
      "text/plain": [
       "State                   0\n",
       "District                0\n",
       "Year                    0\n",
       "Season                  0\n",
       "Crop                    0\n",
       "Area_Hectare            0\n",
       "Yield_Tonnes/Hectare    0\n",
       "Rainfall_mm             0\n",
       "Fertilizer_kg           0\n",
       "Pesticide_kg            0\n",
       "dtype: int64"
      ]
     },
     "execution_count": 114,
     "metadata": {},
     "output_type": "execute_result"
    }
   ],
   "source": [
    "df_merged_agronomic.isnull().sum()"
   ]
  },
  {
   "cell_type": "code",
   "execution_count": 115,
   "id": "c3c3eda1",
   "metadata": {},
   "outputs": [],
   "source": [
    "#3. mrege with soil data\n",
    "# I'll standardize the 'District' column names to ensure a clean merge.\n",
    "df_merged_agronomic['District'] = df_merged_agronomic['District'].str.title()\n",
    "soil_data_df['District'] = soil_data_df['District'].str.title()"
   ]
  },
  {
   "cell_type": "code",
   "execution_count": 120,
   "id": "96a1b87f",
   "metadata": {},
   "outputs": [
    {
     "data": {
      "text/plain": [
       "array(['Andaman Islands', 'Nicobar Islands', 'Adilabad', 'Anantapur',\n",
       "       'Chittoor', 'Cuddapah', 'East Godavari', 'Guntur', 'Hyderabad',\n",
       "       'Karimnagar', 'Khammam', 'Krishna', 'Kurnool', 'Mahbubnagar',\n",
       "       'Medak', 'Nalgonda', 'Nellore', 'Nizamabad', 'Prakasam',\n",
       "       'Rangareddi', 'Srikakulam', 'Vishakhapatnam', 'Vizianagaram',\n",
       "       'Warangal', 'West Godavari', 'Changlang', 'East Kameng',\n",
       "       'East Siang', 'Kurung Kumey', 'Lohit', 'Lower Dibang Valley',\n",
       "       'Lower Subansiri', 'Papum Pare', 'Tawang', 'Tirap',\n",
       "       'Upper Dibang Valley', 'Upper Siang', 'Upper Subansiri',\n",
       "       'West Kameng', 'West Siang', 'Barpeta', 'Bongaigaon', 'Cachar',\n",
       "       'Darrang', 'Dhemaji', 'Dhuburi', 'Dibrugarh', 'Goalpara',\n",
       "       'Golaghat', 'Hailakandi', 'Jorhat', 'Kamrup', 'Karbi Anglong',\n",
       "       'Karimganj', 'Kokrajhar', 'Lakhimpur', 'Marigaon', 'Nagaon',\n",
       "       'Nalbari', 'North Cachar Hills', 'Sibsagar', 'Sonitpur',\n",
       "       'Tinsukia', 'Araria', 'Aurangabad', 'Banka', 'Begusarai', 'Bhabua',\n",
       "       'Bhagalpur', 'Bhojpur', 'Buxar', 'Darbhanga', 'Gaya', 'Gopalganj',\n",
       "       'Jamui', 'Jehanabad', 'Katihar', 'Khagaria', 'Kishanganj',\n",
       "       'Lakhisarai', 'Madhepura', 'Madhubani', 'Munger', 'Muzaffarpur',\n",
       "       'Nalanda', 'Nawada', 'Pashchim Champaran', 'Patna',\n",
       "       'Purba Champaran', 'Purnia', 'Rohtas', 'Saharsa', 'Samastipur',\n",
       "       'Saran', 'Sheikhpura', 'Sheohar', 'Sitamarhi', 'Siwan', 'Supaul',\n",
       "       'Vaishali', 'Chandigarh', 'Bastar', 'Bilaspur', 'Dantewada',\n",
       "       'Dhamtari', 'Durg', 'Janjgir-Champa', 'Jashpur', 'Kanker',\n",
       "       'Kawardha', 'Korba', 'Koriya', 'Mahasamund', 'Raigarh', 'Raipur',\n",
       "       'Raj Nandgaon', 'Surguja', 'Dadra And Nagar Haveli', 'Daman',\n",
       "       'Junagadh', 'Delhi', 'North Goa', 'South Goa', 'Ahmadabad',\n",
       "       'Amreli', 'Anand', 'Banas Kantha', 'Bharuch', 'Bhavnagar', 'Dahod',\n",
       "       'Gandhinagar', 'Jamnagar', 'Kachchh', 'Kheda', 'Mahesana',\n",
       "       'Narmada', 'Navsari', 'Panch Mahals', 'Patan', 'Porbandar',\n",
       "       'Rajkot', 'Sabar Kantha', 'Surat', 'Surendranagar', 'The Dangs',\n",
       "       'Vadodara', 'Valsad', 'Ambala', 'Bhiwani', 'Faridabad',\n",
       "       'Fatehabad', 'Gurgaon', 'Hisar', 'Jhajjar', 'Jind', 'Kaithal',\n",
       "       'Karnal', 'Kurukshetra', 'Mahendragarh', 'Panchkula', 'Panipat',\n",
       "       'Rewari', 'Rohtak', 'Sirsa', 'Sonepat', 'Yamuna Nagar', 'Chamba',\n",
       "       'Hamirpur', 'Kangra', 'Kinnaur', 'Kullu', 'Lahul And Spiti',\n",
       "       'Mandi', 'Shimla', 'Sirmaur', 'Solan', 'Una',\n",
       "       'Anantnag (Kashmir South)', 'Bagdam', 'Baramula (Kashmir North)',\n",
       "       'Doda', 'Jammu', 'Kargil', 'Kathua', 'Kupwara (Muzaffarabad)',\n",
       "       'Ladakh (Leh)', 'Pulwama', 'Punch', 'Rajauri', 'Srinagar',\n",
       "       'Udhampur', 'Bokaro', 'Chatra', 'Deoghar', 'Dhanbad', 'Dumka',\n",
       "       'Garhwa', 'Giridih', 'Godda', 'Gumla', 'Hazaribag', 'Jamtara',\n",
       "       'Koderma', 'Latehar', 'Lohardaga', 'Pakur', 'Palamu',\n",
       "       'Pashchim Singhbhum', 'Purba Singhbhum', 'Ranchi', 'Sahibganj',\n",
       "       'Saraikela Kharsawan', 'Simdega', 'Bagalkot', 'Bangalore Rural',\n",
       "       'Bangalore Urban', 'Belgaum', 'Bellary', 'Bidar', 'Bijapur',\n",
       "       'Chamrajnagar', 'Chikmagalur', 'Chitradurga', 'Dakshin Kannad',\n",
       "       'Davanagere', 'Dharwad', 'Gadag', 'Gulbarga', 'Hassan', 'Haveri',\n",
       "       'Kodagu', 'Kolar', 'Koppal', 'Mandya', 'Mysore', 'Raichur',\n",
       "       'Shimoga', 'Tumkur', 'Udupi', 'Uttar Kannand', 'Alappuzha',\n",
       "       'Ernakulam', 'Idukki', 'Kannur', 'Kasaragod', 'Kollam', 'Kottayam',\n",
       "       'Kozhikode', 'Malappuram', 'Palakkad', 'Pattanamtitta',\n",
       "       'Thiruvananthapuram', 'Thrissur', 'Wayanad', 'Kavaratti',\n",
       "       'Anuppur', 'Ashoknagar', 'Balaghat', 'Barwani', 'Betul', 'Bhind',\n",
       "       'Bhopal', 'Burhanpur', 'Chhatarpur', 'Chhindwara', 'Damoh',\n",
       "       'Datia', 'Dewas', 'Dhar', 'Dindori', 'East Nimar', 'Guna',\n",
       "       'Gwalior', 'Harda', 'Hoshangabad', 'Indore', 'Jabalpur', 'Jhabua',\n",
       "       'Katni', 'Mandla', 'Mandsaur', 'Morena', 'Narsinghpur', 'Neemuch',\n",
       "       'Panna', 'Raisen', 'Rajgarh', 'Ratlam', 'Rewa', 'Sagar', 'Satna',\n",
       "       'Sehore', 'Seoni', 'Shahdol', 'Shajapur', 'Sheopur', 'Shivpuri',\n",
       "       'Sidhi', 'Tikamgarh', 'Ujjain', 'Umaria', 'Vidisha', 'West Nimar',\n",
       "       'Ahmednagar', 'Akola', 'Amravati', 'Bhandara', 'Bid', 'Buldana',\n",
       "       'Chandrapur', 'Dhule', 'Garhchiroli', 'Gondiya', 'Greater Bombay',\n",
       "       'Hingoli', 'Jalgaon', 'Jalna', 'Kolhapur', 'Latur', 'Nagpur',\n",
       "       'Nanded', 'Nandurbar', 'Nashik', 'Osmanabad', 'Parbhani', 'Pune',\n",
       "       'Ratnagiri', 'Sangli', 'Satara', 'Sindhudurg', 'Solapur', 'Thane',\n",
       "       'Wardha', 'Washim', 'Yavatmal', 'Bishnupur', 'Chandel',\n",
       "       'Churachandpur', 'East Imphal', 'Senapati', 'Tamenglong',\n",
       "       'Thoubal', 'Ukhrul', 'West Imphal', 'East Garo Hills',\n",
       "       'East Khasi Hills', 'Jaintia Hills', 'Ri-Bhoi', 'South Garo Hills',\n",
       "       'West Garo Hills', 'West Khasi Hills', 'Aizawl', 'Champhai',\n",
       "       'Kolasib', 'Lawngtlai', 'Lunglei', 'Mamit', 'Saiha', 'Serchhip',\n",
       "       'Dimapur', 'Kohima', 'Mokokchung', 'Mon', 'Phek', 'Tuensang',\n",
       "       'Wokha', 'Zunheboto', 'Angul', 'Baleshwar', 'Baragarh', 'Bhadrak',\n",
       "       'Bolangir', 'Boudh', 'Cuttack', 'Deogarh', 'Dhenkanal', 'Gajapati',\n",
       "       'Ganjam', 'Jagatsinghpur', 'Jajpur', 'Jharsuguda', 'Kalahandi',\n",
       "       'Kandhamal', 'Kendrapara', 'Keonjhar', 'Khordha', 'Koraput',\n",
       "       'Malkangiri', 'Mayurbhanj', 'Nabarangpur', 'Nayagarh', 'Nuapada',\n",
       "       'Puri', 'Rayagada', 'Sambalpur', 'Sonepur', 'Sundargarh',\n",
       "       'Karaikal', 'Mahe', 'Puducherry', 'Yanam', 'Amritsar', 'Bathinda',\n",
       "       'Faridkot', 'Fatehgarh Sahib', 'Firozpur', 'Gurdaspur',\n",
       "       'Hoshiarpur', 'Jalandhar', 'Kapurthala', 'Ludhiana', 'Mansa',\n",
       "       'Moga', 'Muktsar', 'Nawan Shehar', 'Patiala', 'Rupnagar',\n",
       "       'Sangrur', 'Ajmer', 'Alwar', 'Banswara', 'Baran', 'Barmer',\n",
       "       'Bharatpur', 'Bhilwara', 'Bikaner', 'Bundi', 'Chittaurgarh',\n",
       "       'Churu', 'Dausa', 'Dhaulpur', 'Dungarpur', 'Ganganagar',\n",
       "       'Hanumangarh', 'Jaipur', 'Jaisalmer', 'Jalor', 'Jhalawar',\n",
       "       'Jhunjhunun', 'Jodhpur', 'Karauli', 'Kota', 'Nagaur', 'Pali',\n",
       "       'Rajsamand', 'Sawai Madhopur', 'Sikar', 'Sirohi', 'Tonk',\n",
       "       'Udaipur', 'East', 'North Sikkim', 'South Sikkim', 'West Sikkim',\n",
       "       'Ariyalur', 'Chennai', 'Coimbatore', 'Cuddalore', 'Dharmapuri',\n",
       "       'Dindigul', 'Erode', 'Kancheepuram', 'Kanniyakumari', 'Karur',\n",
       "       'Madurai', 'Nagapattinam', 'Namakkal', 'Nilgiris', 'Perambalur',\n",
       "       'Pudukkottai', 'Ramanathapuram', 'Salem', 'Sivaganga', 'Thanjavur',\n",
       "       'Theni', 'Thiruvallur', 'Thiruvarur', 'Thoothukudi',\n",
       "       'Tiruchchirappalli', 'Tirunelveli Kattabo', 'Tiruvannamalai',\n",
       "       'Vellore', 'Villupuram', 'Virudhunagar', 'Dhalai', 'North Tripura',\n",
       "       'South Tripura', 'West Tripura', 'Agra', 'Aligarh', 'Allahabad',\n",
       "       'Ambedkar Nagar', 'Auraiya', 'Azamgarh', 'Badaun', 'Baghpat',\n",
       "       'Bahraich', 'Ballia', 'Balrampur', 'Banda', 'Bara Banki',\n",
       "       'Bareilly', 'Basti', 'Bijnor', 'Bulandshahr', 'Chandauli',\n",
       "       'Chitrakoot', 'Deoria', 'Etah', 'Etawah', 'Faizabad',\n",
       "       'Farrukhabad', 'Fatehpur', 'Firozabad', 'Gautam Buddha Nagar',\n",
       "       'Ghaziabad', 'Ghazipur', 'Gonda', 'Gorakhpur', 'Hardoi', 'Hathras',\n",
       "       'Jalaun', 'Jaunpur', 'Jhansi', 'Jyotiba Phule Nagar', 'Kannauj',\n",
       "       'Kanpur Dehat', 'Kanpur', 'Kaushambi', 'Kushinagar',\n",
       "       'Lakhimpur Kheri', 'Lalitpur', 'Lucknow', 'Maharajganj', 'Mahoba',\n",
       "       'Mainpuri', 'Mathura', 'Mau', 'Meerut', 'Mirzapur', 'Moradabad',\n",
       "       'Muzaffarnagar', 'Pilibhit', 'Pratapgarh', 'Rae Bareli', 'Rampur',\n",
       "       'Saharanpur', 'Sant Kabir Nagar', 'Sant Ravi Das Nagar',\n",
       "       'Shahjahanpur', 'Shravasti', 'Siddharth Nagar', 'Sitapur',\n",
       "       'Sonbhadra', 'Sultanpur', 'Unnao', 'Varanasi', 'Almora',\n",
       "       'Bageshwar', 'Chamoli', 'Champawat', 'Dehra Dun', 'Haridwar',\n",
       "       'Naini Tal', 'Pauri Garhwal', 'Pithoragarh', 'Rudra Prayag',\n",
       "       'Tehri Garhwal', 'Udham Singh Nagar', 'Uttarkashi', 'Bankura',\n",
       "       'Barddhaman', 'Birbhum', 'Dakshin Dinajpur', 'Darjiling',\n",
       "       'East Midnapore', 'Haora', 'Hugli', 'Jalpaiguri', 'Kochbihar',\n",
       "       'Kolkata', 'Maldah', 'Murshidabad', 'Nadia', 'North 24 Parganas',\n",
       "       'Puruliya', 'South 24 Parganas', 'Uttar Dinajpur',\n",
       "       'West Midnapore'], dtype=object)"
      ]
     },
     "execution_count": 120,
     "metadata": {},
     "output_type": "execute_result"
    }
   ],
   "source": [
    "soil_data_df['District'].unique()"
   ]
  },
  {
   "cell_type": "code",
   "execution_count": null,
   "id": "66f56f2d",
   "metadata": {},
   "outputs": [],
   "source": [
    "# ---  I'll remove duplicates from the soil data ---\n",
    "# I'm grouping by 'District' and taking the mean to ensure each district is unique.\n",
    "soil_data_unique = soil_data_df.groupby('District').mean().reset_index()"
   ]
  },
  {
   "cell_type": "code",
   "execution_count": 122,
   "id": "996326f8",
   "metadata": {},
   "outputs": [],
   "source": [
    "# I'm using a 'left' merge to keep all the rows from our main dataset.\n",
    "df_final = pd.merge(\n",
    "    df_merged_agronomic,\n",
    "    soil_data_unique,  \n",
    "    on='District',\n",
    "    how='left'\n",
    ")"
   ]
  },
  {
   "cell_type": "code",
   "execution_count": 123,
   "id": "fb242cf8",
   "metadata": {},
   "outputs": [
    {
     "data": {
      "text/plain": [
       "(345273, 11)"
      ]
     },
     "execution_count": 123,
     "metadata": {},
     "output_type": "execute_result"
    }
   ],
   "source": [
    "df_final.shape"
   ]
  },
  {
   "cell_type": "code",
   "execution_count": 124,
   "id": "b4152c40",
   "metadata": {},
   "outputs": [
    {
     "data": {
      "text/plain": [
       "State                       0\n",
       "District                    0\n",
       "Year                        0\n",
       "Season                      0\n",
       "Crop                        0\n",
       "Area_Hectare                0\n",
       "Yield_Tonnes/Hectare        0\n",
       "Rainfall_mm                 0\n",
       "Fertilizer_kg               0\n",
       "Pesticide_kg                0\n",
       "pH                      76912\n",
       "dtype: int64"
      ]
     },
     "execution_count": 124,
     "metadata": {},
     "output_type": "execute_result"
    }
   ],
   "source": [
    "df_final.isnull().sum()"
   ]
  },
  {
   "cell_type": "code",
   "execution_count": 125,
   "id": "35ec8272",
   "metadata": {},
   "outputs": [],
   "source": [
    "# I'll fill the missing pH values with the mean pH of their respective State.\n",
    "df_final['pH'] = df_final.groupby(\n",
    "    'State')['pH'].transform(lambda x: x.fillna(x.mean()))"
   ]
  },
  {
   "cell_type": "code",
   "execution_count": 126,
   "id": "520ebeb0",
   "metadata": {},
   "outputs": [
    {
     "data": {
      "text/plain": [
       "State                      0\n",
       "District                   0\n",
       "Year                       0\n",
       "Season                     0\n",
       "Crop                       0\n",
       "Area_Hectare               0\n",
       "Yield_Tonnes/Hectare       0\n",
       "Rainfall_mm                0\n",
       "Fertilizer_kg              0\n",
       "Pesticide_kg               0\n",
       "pH                      1601\n",
       "dtype: int64"
      ]
     },
     "execution_count": 126,
     "metadata": {},
     "output_type": "execute_result"
    }
   ],
   "source": [
    "df_final.isnull().sum()"
   ]
  },
  {
   "cell_type": "code",
   "execution_count": 127,
   "id": "c260a3ab",
   "metadata": {},
   "outputs": [
    {
     "name": "stderr",
     "output_type": "stream",
     "text": [
      "C:\\Users\\Punith\\AppData\\Local\\Temp\\ipykernel_11112\\2475029973.py:3: FutureWarning: A value is trying to be set on a copy of a DataFrame or Series through chained assignment using an inplace method.\n",
      "The behavior will change in pandas 3.0. This inplace method will never work because the intermediate object on which we are setting values always behaves as a copy.\n",
      "\n",
      "For example, when doing 'df[col].method(value, inplace=True)', try using 'df.method({col: value}, inplace=True)' or df[col] = df[col].method(value) instead, to perform the operation inplace on the original object.\n",
      "\n",
      "\n",
      "  df_final['pH'].fillna(df_final['pH'].mean(), inplace=True)\n"
     ]
    }
   ],
   "source": [
    "# It's possible a few NaNs remain if an entire state had no matching soil data.\n",
    "# I'll fill these last few gaps with the overall mean pH from the entire dataset.\n",
    "df_final['pH'].fillna(df_final['pH'].mean(), inplace=True)"
   ]
  },
  {
   "cell_type": "code",
   "execution_count": 128,
   "id": "7a8ee0c7",
   "metadata": {},
   "outputs": [
    {
     "data": {
      "text/plain": [
       "State                   0\n",
       "District                0\n",
       "Year                    0\n",
       "Season                  0\n",
       "Crop                    0\n",
       "Area_Hectare            0\n",
       "Yield_Tonnes/Hectare    0\n",
       "Rainfall_mm             0\n",
       "Fertilizer_kg           0\n",
       "Pesticide_kg            0\n",
       "pH                      0\n",
       "dtype: int64"
      ]
     },
     "execution_count": 128,
     "metadata": {},
     "output_type": "execute_result"
    }
   ],
   "source": [
    "df_final.isnull().sum()"
   ]
  },
  {
   "cell_type": "code",
   "execution_count": 130,
   "id": "451bd4cc",
   "metadata": {},
   "outputs": [],
   "source": [
    "df_final.to_csv(\"../data/final_cleaned_crop_data.csv\", index=False)"
   ]
  },
  {
   "cell_type": "code",
   "execution_count": null,
   "id": "95569729",
   "metadata": {},
   "outputs": [],
   "source": []
  }
 ],
 "metadata": {
  "kernelspec": {
   "display_name": ".venv (3.12.6)",
   "language": "python",
   "name": "python3"
  },
  "language_info": {
   "codemirror_mode": {
    "name": "ipython",
    "version": 3
   },
   "file_extension": ".py",
   "mimetype": "text/x-python",
   "name": "python",
   "nbconvert_exporter": "python",
   "pygments_lexer": "ipython3",
   "version": "3.12.6"
  }
 },
 "nbformat": 4,
 "nbformat_minor": 5
}
